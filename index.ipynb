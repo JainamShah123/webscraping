{
 "cells": [
  {
   "cell_type": "code",
   "execution_count": 1,
   "metadata": {},
   "outputs": [],
   "source": [
    "import requests\n",
    "from bs4 import BeautifulSoup\n",
    "import pandas as pd\n",
    "import re\n",
    "company=\"TITAN\"\n",
    "url=f\"https://www.screener.in/company/{company}\"\n",
    "table=pd.read_html(url,index_col=0)\n"
   ]
  },
  {
   "cell_type": "code",
   "execution_count": 2,
   "metadata": {},
   "outputs": [],
   "source": [
    "data=requests.get(url)\n",
    "soup=BeautifulSoup(data.content,\"lxml\")\n",
    "price=soup.findAll(\"span\")[1]"
   ]
  },
  {
   "cell_type": "code",
   "execution_count": 3,
   "metadata": {},
   "outputs": [],
   "source": [
    "price1 = re.sub(r'[\\W]', ' ', price.text)"
   ]
  },
  {
   "cell_type": "code",
   "execution_count": 4,
   "metadata": {},
   "outputs": [],
   "source": [
    "price1=price1.replace(\" \",\"\")\n",
    "price1=int(price1)"
   ]
  },
  {
   "cell_type": "code",
   "execution_count": 5,
   "metadata": {},
   "outputs": [
    {
     "data": {
      "text/html": [
       "<div>\n",
       "<style scoped>\n",
       "    .dataframe tbody tr th:only-of-type {\n",
       "        vertical-align: middle;\n",
       "    }\n",
       "\n",
       "    .dataframe tbody tr th {\n",
       "        vertical-align: top;\n",
       "    }\n",
       "\n",
       "    .dataframe thead th {\n",
       "        text-align: right;\n",
       "    }\n",
       "</style>\n",
       "<table border=\"1\" class=\"dataframe\">\n",
       "  <thead>\n",
       "    <tr style=\"text-align: right;\">\n",
       "      <th></th>\n",
       "      <th>Mar 2011</th>\n",
       "      <th>Mar 2012</th>\n",
       "      <th>Mar 2013</th>\n",
       "      <th>Mar 2014</th>\n",
       "      <th>Mar 2015</th>\n",
       "      <th>Mar 2016</th>\n",
       "      <th>Mar 2017</th>\n",
       "      <th>Mar 2018</th>\n",
       "      <th>Mar 2019</th>\n",
       "      <th>Mar 2020</th>\n",
       "      <th>Mar 2021</th>\n",
       "      <th>Mar 2022</th>\n",
       "      <th>TTM</th>\n",
       "    </tr>\n",
       "  </thead>\n",
       "  <tbody>\n",
       "    <tr>\n",
       "      <th>Sales +</th>\n",
       "      <td>6521</td>\n",
       "      <td>8838</td>\n",
       "      <td>10113</td>\n",
       "      <td>10916</td>\n",
       "      <td>11903</td>\n",
       "      <td>11084</td>\n",
       "      <td>12897</td>\n",
       "      <td>15621</td>\n",
       "      <td>19070</td>\n",
       "      <td>20010</td>\n",
       "      <td>20602</td>\n",
       "      <td>27210</td>\n",
       "      <td>34482</td>\n",
       "    </tr>\n",
       "    <tr>\n",
       "      <th>Expenses +</th>\n",
       "      <td>5907</td>\n",
       "      <td>8003</td>\n",
       "      <td>9100</td>\n",
       "      <td>9864</td>\n",
       "      <td>10746</td>\n",
       "      <td>10135</td>\n",
       "      <td>11693</td>\n",
       "      <td>13886</td>\n",
       "      <td>17064</td>\n",
       "      <td>17592</td>\n",
       "      <td>18896</td>\n",
       "      <td>23928</td>\n",
       "      <td>29903</td>\n",
       "    </tr>\n",
       "    <tr>\n",
       "      <th>Operating Profit</th>\n",
       "      <td>614</td>\n",
       "      <td>835</td>\n",
       "      <td>1012</td>\n",
       "      <td>1051</td>\n",
       "      <td>1158</td>\n",
       "      <td>949</td>\n",
       "      <td>1204</td>\n",
       "      <td>1736</td>\n",
       "      <td>2006</td>\n",
       "      <td>2418</td>\n",
       "      <td>1706</td>\n",
       "      <td>3282</td>\n",
       "      <td>4579</td>\n",
       "    </tr>\n",
       "    <tr>\n",
       "      <th>OPM %</th>\n",
       "      <td>9%</td>\n",
       "      <td>9%</td>\n",
       "      <td>10%</td>\n",
       "      <td>10%</td>\n",
       "      <td>10%</td>\n",
       "      <td>9%</td>\n",
       "      <td>9%</td>\n",
       "      <td>11%</td>\n",
       "      <td>11%</td>\n",
       "      <td>12%</td>\n",
       "      <td>8%</td>\n",
       "      <td>12%</td>\n",
       "      <td>13%</td>\n",
       "    </tr>\n",
       "    <tr>\n",
       "      <th>Other Income +</th>\n",
       "      <td>54</td>\n",
       "      <td>92</td>\n",
       "      <td>99</td>\n",
       "      <td>117</td>\n",
       "      <td>66</td>\n",
       "      <td>69</td>\n",
       "      <td>-40</td>\n",
       "      <td>-7</td>\n",
       "      <td>104</td>\n",
       "      <td>146</td>\n",
       "      <td>39</td>\n",
       "      <td>192</td>\n",
       "      <td>184</td>\n",
       "    </tr>\n",
       "  </tbody>\n",
       "</table>\n",
       "</div>"
      ],
      "text/plain": [
       "                 Mar 2011 Mar 2012 Mar 2013 Mar 2014 Mar 2015 Mar 2016  \\\n",
       "Sales +              6521     8838    10113    10916    11903    11084   \n",
       "Expenses +           5907     8003     9100     9864    10746    10135   \n",
       "Operating Profit      614      835     1012     1051     1158      949   \n",
       "OPM %                  9%       9%      10%      10%      10%       9%   \n",
       "Other Income +         54       92       99      117       66       69   \n",
       "\n",
       "                 Mar 2017 Mar 2018 Mar 2019 Mar 2020 Mar 2021 Mar 2022    TTM  \n",
       "Sales +             12897    15621    19070    20010    20602    27210  34482  \n",
       "Expenses +          11693    13886    17064    17592    18896    23928  29903  \n",
       "Operating Profit     1204     1736     2006     2418     1706     3282   4579  \n",
       "OPM %                  9%      11%      11%      12%       8%      12%    13%  \n",
       "Other Income +        -40       -7      104      146       39      192    184  "
      ]
     },
     "execution_count": 5,
     "metadata": {},
     "output_type": "execute_result"
    }
   ],
   "source": [
    "table1=table[1]\n",
    "table1.head()"
   ]
  },
  {
   "cell_type": "code",
   "execution_count": 6,
   "metadata": {},
   "outputs": [],
   "source": [
    "table1=table1.drop([\"TTM\"],axis=1)"
   ]
  },
  {
   "cell_type": "code",
   "execution_count": 7,
   "metadata": {},
   "outputs": [],
   "source": [
    "table1.T.to_csv(\"market_data.csv\")"
   ]
  },
  {
   "cell_type": "code",
   "execution_count": 8,
   "metadata": {},
   "outputs": [],
   "source": [
    "table1T=table1.T"
   ]
  },
  {
   "cell_type": "code",
   "execution_count": 9,
   "metadata": {},
   "outputs": [],
   "source": [
    "table1T.index=table1T.index.str.removeprefix(prefix=\"Mar \")"
   ]
  },
  {
   "cell_type": "code",
   "execution_count": 10,
   "metadata": {},
   "outputs": [
    {
     "data": {
      "text/plain": [
       "pandas.core.frame.DataFrame"
      ]
     },
     "execution_count": 10,
     "metadata": {},
     "output_type": "execute_result"
    }
   ],
   "source": [
    "type(table1T)"
   ]
  },
  {
   "cell_type": "code",
   "execution_count": 11,
   "metadata": {},
   "outputs": [
    {
     "data": {
      "text/html": [
       "<div>\n",
       "<style scoped>\n",
       "    .dataframe tbody tr th:only-of-type {\n",
       "        vertical-align: middle;\n",
       "    }\n",
       "\n",
       "    .dataframe tbody tr th {\n",
       "        vertical-align: top;\n",
       "    }\n",
       "\n",
       "    .dataframe thead th {\n",
       "        text-align: right;\n",
       "    }\n",
       "</style>\n",
       "<table border=\"1\" class=\"dataframe\">\n",
       "  <thead>\n",
       "    <tr style=\"text-align: right;\">\n",
       "      <th></th>\n",
       "      <th>Sales +</th>\n",
       "      <th>Expenses +</th>\n",
       "      <th>Operating Profit</th>\n",
       "      <th>OPM %</th>\n",
       "      <th>Other Income +</th>\n",
       "      <th>Interest</th>\n",
       "      <th>Depreciation</th>\n",
       "      <th>Profit before tax</th>\n",
       "      <th>Tax %</th>\n",
       "      <th>Net Profit</th>\n",
       "      <th>EPS in Rs</th>\n",
       "      <th>Dividend Payout %</th>\n",
       "    </tr>\n",
       "  </thead>\n",
       "  <tbody>\n",
       "    <tr>\n",
       "      <th>2011</th>\n",
       "      <td>6521</td>\n",
       "      <td>5907</td>\n",
       "      <td>614</td>\n",
       "      <td>9%</td>\n",
       "      <td>54</td>\n",
       "      <td>35</td>\n",
       "      <td>34</td>\n",
       "      <td>599</td>\n",
       "      <td>28%</td>\n",
       "      <td>430</td>\n",
       "      <td>4.85</td>\n",
       "      <td>13%</td>\n",
       "    </tr>\n",
       "    <tr>\n",
       "      <th>2012</th>\n",
       "      <td>8838</td>\n",
       "      <td>8003</td>\n",
       "      <td>835</td>\n",
       "      <td>9%</td>\n",
       "      <td>92</td>\n",
       "      <td>44</td>\n",
       "      <td>45</td>\n",
       "      <td>838</td>\n",
       "      <td>28%</td>\n",
       "      <td>600</td>\n",
       "      <td>6.76</td>\n",
       "      <td>26%</td>\n",
       "    </tr>\n",
       "    <tr>\n",
       "      <th>2013</th>\n",
       "      <td>10113</td>\n",
       "      <td>9100</td>\n",
       "      <td>1012</td>\n",
       "      <td>10%</td>\n",
       "      <td>99</td>\n",
       "      <td>51</td>\n",
       "      <td>54</td>\n",
       "      <td>1006</td>\n",
       "      <td>28%</td>\n",
       "      <td>725</td>\n",
       "      <td>8.17</td>\n",
       "      <td>26%</td>\n",
       "    </tr>\n",
       "    <tr>\n",
       "      <th>2014</th>\n",
       "      <td>10916</td>\n",
       "      <td>9864</td>\n",
       "      <td>1051</td>\n",
       "      <td>10%</td>\n",
       "      <td>117</td>\n",
       "      <td>87</td>\n",
       "      <td>66</td>\n",
       "      <td>1016</td>\n",
       "      <td>27%</td>\n",
       "      <td>741</td>\n",
       "      <td>8.35</td>\n",
       "      <td>25%</td>\n",
       "    </tr>\n",
       "    <tr>\n",
       "      <th>2015</th>\n",
       "      <td>11903</td>\n",
       "      <td>10746</td>\n",
       "      <td>1158</td>\n",
       "      <td>10%</td>\n",
       "      <td>66</td>\n",
       "      <td>81</td>\n",
       "      <td>87</td>\n",
       "      <td>1056</td>\n",
       "      <td>22%</td>\n",
       "      <td>823</td>\n",
       "      <td>9.27</td>\n",
       "      <td>25%</td>\n",
       "    </tr>\n",
       "    <tr>\n",
       "      <th>2016</th>\n",
       "      <td>11084</td>\n",
       "      <td>10135</td>\n",
       "      <td>949</td>\n",
       "      <td>9%</td>\n",
       "      <td>69</td>\n",
       "      <td>42</td>\n",
       "      <td>87</td>\n",
       "      <td>888</td>\n",
       "      <td>21%</td>\n",
       "      <td>698</td>\n",
       "      <td>7.86</td>\n",
       "      <td>28%</td>\n",
       "    </tr>\n",
       "    <tr>\n",
       "      <th>2017</th>\n",
       "      <td>12897</td>\n",
       "      <td>11693</td>\n",
       "      <td>1204</td>\n",
       "      <td>9%</td>\n",
       "      <td>-40</td>\n",
       "      <td>37</td>\n",
       "      <td>93</td>\n",
       "      <td>1033</td>\n",
       "      <td>26%</td>\n",
       "      <td>762</td>\n",
       "      <td>8.58</td>\n",
       "      <td>30%</td>\n",
       "    </tr>\n",
       "    <tr>\n",
       "      <th>2018</th>\n",
       "      <td>15621</td>\n",
       "      <td>13886</td>\n",
       "      <td>1736</td>\n",
       "      <td>11%</td>\n",
       "      <td>-7</td>\n",
       "      <td>48</td>\n",
       "      <td>110</td>\n",
       "      <td>1571</td>\n",
       "      <td>26%</td>\n",
       "      <td>1163</td>\n",
       "      <td>13.10</td>\n",
       "      <td>29%</td>\n",
       "    </tr>\n",
       "    <tr>\n",
       "      <th>2019</th>\n",
       "      <td>19070</td>\n",
       "      <td>17064</td>\n",
       "      <td>2006</td>\n",
       "      <td>11%</td>\n",
       "      <td>104</td>\n",
       "      <td>44</td>\n",
       "      <td>139</td>\n",
       "      <td>1927</td>\n",
       "      <td>29%</td>\n",
       "      <td>1374</td>\n",
       "      <td>15.48</td>\n",
       "      <td>32%</td>\n",
       "    </tr>\n",
       "    <tr>\n",
       "      <th>2020</th>\n",
       "      <td>20010</td>\n",
       "      <td>17592</td>\n",
       "      <td>2418</td>\n",
       "      <td>12%</td>\n",
       "      <td>146</td>\n",
       "      <td>149</td>\n",
       "      <td>310</td>\n",
       "      <td>2105</td>\n",
       "      <td>28%</td>\n",
       "      <td>1517</td>\n",
       "      <td>17.09</td>\n",
       "      <td>23%</td>\n",
       "    </tr>\n",
       "    <tr>\n",
       "      <th>2021</th>\n",
       "      <td>20602</td>\n",
       "      <td>18896</td>\n",
       "      <td>1706</td>\n",
       "      <td>8%</td>\n",
       "      <td>39</td>\n",
       "      <td>181</td>\n",
       "      <td>331</td>\n",
       "      <td>1233</td>\n",
       "      <td>29%</td>\n",
       "      <td>877</td>\n",
       "      <td>9.88</td>\n",
       "      <td>41%</td>\n",
       "    </tr>\n",
       "    <tr>\n",
       "      <th>2022</th>\n",
       "      <td>27210</td>\n",
       "      <td>23928</td>\n",
       "      <td>3282</td>\n",
       "      <td>12%</td>\n",
       "      <td>192</td>\n",
       "      <td>195</td>\n",
       "      <td>347</td>\n",
       "      <td>2932</td>\n",
       "      <td>26%</td>\n",
       "      <td>2180</td>\n",
       "      <td>24.56</td>\n",
       "      <td>31%</td>\n",
       "    </tr>\n",
       "  </tbody>\n",
       "</table>\n",
       "</div>"
      ],
      "text/plain": [
       "     Sales + Expenses + Operating Profit OPM % Other Income + Interest  \\\n",
       "2011    6521       5907              614    9%             54       35   \n",
       "2012    8838       8003              835    9%             92       44   \n",
       "2013   10113       9100             1012   10%             99       51   \n",
       "2014   10916       9864             1051   10%            117       87   \n",
       "2015   11903      10746             1158   10%             66       81   \n",
       "2016   11084      10135              949    9%             69       42   \n",
       "2017   12897      11693             1204    9%            -40       37   \n",
       "2018   15621      13886             1736   11%             -7       48   \n",
       "2019   19070      17064             2006   11%            104       44   \n",
       "2020   20010      17592             2418   12%            146      149   \n",
       "2021   20602      18896             1706    8%             39      181   \n",
       "2022   27210      23928             3282   12%            192      195   \n",
       "\n",
       "     Depreciation Profit before tax Tax % Net Profit EPS in Rs  \\\n",
       "2011           34               599   28%        430      4.85   \n",
       "2012           45               838   28%        600      6.76   \n",
       "2013           54              1006   28%        725      8.17   \n",
       "2014           66              1016   27%        741      8.35   \n",
       "2015           87              1056   22%        823      9.27   \n",
       "2016           87               888   21%        698      7.86   \n",
       "2017           93              1033   26%        762      8.58   \n",
       "2018          110              1571   26%       1163     13.10   \n",
       "2019          139              1927   29%       1374     15.48   \n",
       "2020          310              2105   28%       1517     17.09   \n",
       "2021          331              1233   29%        877      9.88   \n",
       "2022          347              2932   26%       2180     24.56   \n",
       "\n",
       "     Dividend Payout %  \n",
       "2011               13%  \n",
       "2012               26%  \n",
       "2013               26%  \n",
       "2014               25%  \n",
       "2015               25%  \n",
       "2016               28%  \n",
       "2017               30%  \n",
       "2018               29%  \n",
       "2019               32%  \n",
       "2020               23%  \n",
       "2021               41%  \n",
       "2022               31%  "
      ]
     },
     "execution_count": 11,
     "metadata": {},
     "output_type": "execute_result"
    }
   ],
   "source": [
    "table1T"
   ]
  },
  {
   "cell_type": "code",
   "execution_count": 12,
   "metadata": {},
   "outputs": [],
   "source": [
    "vbegin=int(table1T[\"Net Profit\"][0])\n",
    "vfinal=int(table1T[\"Net Profit\"][-1])\n",
    "t=len(table1T)"
   ]
  },
  {
   "cell_type": "code",
   "execution_count": 13,
   "metadata": {},
   "outputs": [
    {
     "data": {
      "text/plain": [
       "14.485109318007328"
      ]
     },
     "execution_count": 13,
     "metadata": {},
     "output_type": "execute_result"
    }
   ],
   "source": [
    "cagr=((vfinal/vbegin)**(1/t))-1\n",
    "cagr=cagr*100\n",
    "cagr"
   ]
  },
  {
   "cell_type": "code",
   "execution_count": 14,
   "metadata": {},
   "outputs": [],
   "source": [
    "close=price1\n",
    "eps=float(table1T[\"EPS in Rs\"][-1])\n",
    "pe=close/eps"
   ]
  },
  {
   "cell_type": "code",
   "execution_count": 15,
   "metadata": {},
   "outputs": [
    {
     "data": {
      "text/plain": [
       "220574.1042345277"
      ]
     },
     "execution_count": 15,
     "metadata": {},
     "output_type": "execute_result"
    }
   ],
   "source": [
    "marketcap=pe*vfinal\n",
    "marketcap"
   ]
  },
  {
   "cell_type": "code",
   "execution_count": 16,
   "metadata": {},
   "outputs": [
    {
     "name": "stdout",
     "output_type": "stream",
     "text": [
      "[2495.77538313256, 2811.55076626512, 3127.3261493976797, 3443.1015325302396, 3758.8769156627995, 4074.6522987953595, 4390.427681927919, 4706.203065060479, 5021.978448193039, 5337.753831325599]\n"
     ]
    }
   ],
   "source": [
    "netprofit=[]\n",
    "sum1=vfinal\n",
    "for i in range(10):\n",
    "    sum1+=((vfinal*cagr)/100)\n",
    "    netprofit.append(sum1)\n",
    "print(netprofit)"
   ]
  },
  {
   "cell_type": "code",
   "execution_count": 17,
   "metadata": {},
   "outputs": [
    {
     "name": "stdout",
     "output_type": "stream",
     "text": [
      "[252524.5043601145, 284474.9044857013, 316425.30461128807, 348375.70473687485, 380326.1048624616, 412276.5049880484, 444226.9051136352, 476177.305239222, 508127.7053648088, 540078.1054903956]\n"
     ]
    }
   ],
   "source": [
    "marketcap=[]\n",
    "for i in netprofit:\n",
    "    marketcap.append(i*pe)\n",
    "print(marketcap)"
   ]
  },
  {
   "cell_type": "code",
   "execution_count": null,
   "metadata": {},
   "outputs": [],
   "source": []
  }
 ],
 "metadata": {
  "kernelspec": {
   "display_name": "Python 3",
   "language": "python",
   "name": "python3"
  },
  "language_info": {
   "codemirror_mode": {
    "name": "ipython",
    "version": 3
   },
   "file_extension": ".py",
   "mimetype": "text/x-python",
   "name": "python",
   "nbconvert_exporter": "python",
   "pygments_lexer": "ipython3",
   "version": "3.10.9 (tags/v3.10.9:1dd9be6, Dec  6 2022, 20:01:21) [MSC v.1934 64 bit (AMD64)]"
  },
  "orig_nbformat": 4,
  "vscode": {
   "interpreter": {
    "hash": "369f2c481f4da34e4445cda3fffd2e751bd1c4d706f27375911949ba6bb62e1c"
   }
  }
 },
 "nbformat": 4,
 "nbformat_minor": 2
}
